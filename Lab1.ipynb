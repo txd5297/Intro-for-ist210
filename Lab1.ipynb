{
  "nbformat": 4,
  "nbformat_minor": 0,
  "metadata": {
    "colab": {
      "name": "Untitled1.ipynb",
      "provenance": [],
      "authorship_tag": "ABX9TyP2bxuvBF0b9wNiv89BG4TX",
      "include_colab_link": true
    },
    "kernelspec": {
      "name": "python3",
      "display_name": "Python 3"
    }
  },
  "cells": [
    {
      "cell_type": "markdown",
      "metadata": {
        "id": "view-in-github",
        "colab_type": "text"
      },
      "source": [
        "<a href=\"https://colab.research.google.com/github/txd5297/Intro-for-ist210/blob/master/Lab1.ipynb\" target=\"_parent\"><img src=\"https://colab.research.google.com/assets/colab-badge.svg\" alt=\"Open In Colab\"/></a>"
      ]
    },
    {
      "cell_type": "markdown",
      "metadata": {
        "id": "b2GWOIUKbsPB",
        "colab_type": "text"
      },
      "source": [
        "###Do you like using jupyter notebook?\n"
      ]
    },
    {
      "cell_type": "markdown",
      "metadata": {
        "id": "pI-xhgbrbstp",
        "colab_type": "text"
      },
      "source": [
        "I was in your SRA286 last semester and learned to get used to it. I have never used anything like it before but once you figure it out it becomes quite seemless."
      ]
    },
    {
      "cell_type": "markdown",
      "metadata": {
        "id": "gDtm5eITgAv6",
        "colab_type": "text"
      },
      "source": [
        "###What do you want to learn about in Jupyter notebooks?"
      ]
    },
    {
      "cell_type": "markdown",
      "metadata": {
        "id": "xDOkGFqugBGF",
        "colab_type": "text"
      },
      "source": [
        "I only really know how to add words and images through links. I would like to learn how to use code in Jupyter notebooks."
      ]
    },
    {
      "cell_type": "markdown",
      "metadata": {
        "id": "RMJh9wlxgi7d",
        "colab_type": "text"
      },
      "source": [
        "![best mtn dew flavor](https://raw.githubusercontent.com/txd5297/Intro-for-ist210/master/images/Baja.jpg)"
      ]
    }
  ]
}